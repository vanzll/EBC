{
 "cells": [
  {
   "cell_type": "code",
   "execution_count": 1,
   "metadata": {
    "ExecuteTime": {
     "end_time": "2023-04-19T09:58:06.239294Z",
     "start_time": "2023-04-19T09:58:06.233864Z"
    },
    "collapsed": true
   },
   "outputs": [],
   "source": [
    "import os\n",
    "from pathlib import Path\n",
    "# project_root = os.path.join(str(Path.home()), 'PPGA')\n",
    "# os.chdir(project_root)\n",
    "# %pwd # should be PPGA root dir"
   ]
  },
  {
   "cell_type": "code",
   "execution_count": 2,
   "metadata": {
    "ExecuteTime": {
     "end_time": "2023-04-19T09:58:08.429948Z",
     "start_time": "2023-04-19T09:58:06.234245Z"
    },
    "collapsed": false
   },
   "outputs": [
    {
     "name": "stderr",
     "output_type": "stream",
     "text": [
      "/mnt/data/wanzl/conda/envs/ppga/lib/python3.9/site-packages/wandb/analytics/sentry.py:90: SentryHubDeprecationWarning: `sentry_sdk.Hub` is deprecated and will be removed in a future major release. Please consult our 1.x to 2.x migration guide for details on how to migrate `Hub` usage to the new API: https://docs.sentry.io/platforms/python/migration/1.x-to-2.x\n",
      "  self.hub = sentry_sdk.Hub(client)\n"
     ]
    }
   ],
   "source": [
    "import pickle\n",
    "\n",
    "import numpy as np\n",
    "from attrdict import AttrDict\n",
    "from RL.ppo import *\n",
    "from utils.utilities import log\n",
    "from envs.brax_custom.brax_env import make_vec_env_brax\n",
    "from models.actor_critic import Actor, PGAMEActor\n",
    "from pandas import DataFrame\n",
    "\n",
    "from IPython.display import HTML, Image\n",
    "from IPython.display import display\n",
    "from brax.io import html, image"
   ]
  },
  {
   "cell_type": "code",
   "execution_count": 3,
   "metadata": {
    "ExecuteTime": {
     "end_time": "2023-04-19T09:58:08.434682Z",
     "start_time": "2023-04-19T09:58:08.430496Z"
    },
    "collapsed": false
   },
   "outputs": [],
   "source": [
    "# params to config\n",
    "device = torch.device('cuda')\n",
    "env_name = 'halfcheetah'\n",
    "env_name = 'humanoid'\n",
    "# env_name = 'ant'\n",
    "env_name = 'walker2d'\n",
    "if env_name == 'humanoid':\n",
    "    clip_obs_rew = True\n",
    "else:\n",
    "    clip_obs_rew = False\n",
    "seed = 1111\n",
    "normalize_obs = True\n",
    "normalize_rewards = True\n",
    "# non-configurable params\n",
    "obs_shapes = {\n",
    "    'humanoid': (227,),\n",
    "    'ant': (87,),\n",
    "    'halfcheetah': (18,),\n",
    "    'walker2d': (17,)\n",
    "}\n",
    "action_shapes = {\n",
    "    'humanoid': (17,),\n",
    "    'ant': (8,),\n",
    "    'halfcheetah': (6,),\n",
    "    'walker2d': (6,)\n",
    "}\n",
    "\n",
    "# define the final config objects\n",
    "actor_cfg = AttrDict({\n",
    "        'obs_shape': obs_shapes[env_name],\n",
    "        'action_shape': action_shapes[env_name],\n",
    "        'normalize_obs': normalize_obs,\n",
    "        'normalize_rewards': normalize_rewards,\n",
    "})\n",
    "env_cfg = AttrDict({\n",
    "        'env_name': env_name,\n",
    "        'env_batch_size': None,\n",
    "        'num_dims': 2 if not 'ant' in env_name else 4,\n",
    "        'envs_per_model': 1,\n",
    "        'seed': seed,\n",
    "        'num_envs': 1,\n",
    "        'clip_obs_rew': clip_obs_rew\n",
    "})\n"
   ]
  },
  {
   "cell_type": "code",
   "execution_count": 4,
   "metadata": {
    "ExecuteTime": {
     "end_time": "2023-04-18T10:24:43.868494Z",
     "start_time": "2023-04-18T10:24:40.275221Z"
    },
    "collapsed": false
   },
   "outputs": [
    {
     "name": "stderr",
     "output_type": "stream",
     "text": [
      "/mnt/data/wanzl/conda/envs/ppga/lib/python3.9/site-packages/tqdm/auto.py:21: TqdmWarning: IProgress not found. Please update jupyter and ipywidgets. See https://ipywidgets.readthedocs.io/en/stable/user_install.html\n",
      "  from .autonotebook import tqdm as notebook_tqdm\n",
      "2025-05-26 20:46:40,185\tINFO util.py:154 -- Missing packages: ['ipywidgets']. Run `pip install -U ipywidgets`, then restart the notebook server for rich notebook output.\n",
      "WARNING:evotorch:The logger is already configured. The default configuration will not be applied. Call `set_default_logger_config` with `override=True` to override the current configuration.\n"
     ]
    }
   ],
   "source": [
    "# now lets load in a saved archive dataframe and scheduler\n",
    "# change this to be your own checkpoint path\n",
    "#archive_path = f'experiments/paper_ppga_{env_name}/1111/checkpoints/cp_00002000/archive_df_00002000.pkl'\n",
    "archive_path = f'/home/wanzl/project/ppga_il/experiments_4_good_and_diverse_elite_with_measures_top500/IL_ppga_{env_name}_m_cond_gail_archive_bonus_wo_smooth/1111/checkpoints/cp_00002000/archive_df_00002000.pkl'\n",
    "archive_path = '/home/wanzl/project/ppga_il/experiments_4_good_and_diverse_elite_with_measures_top500/IL_ppga_walker2d_m_cond_reg_gail_RegLoss_MSE_Bonus_single_step_bonus/1111/checkpoints/cp_00002000/archive_df_00002000.pkl'\n",
    "#scheduler_path = f'experiments/paper_ppga_{env_name}/1111/checkpoints/cp_00002000/scheduler_00002000.pkl'\n",
    "scheduler_path = f'/home/wanzl/project/ppga_il/experiments_4_good_and_diverse_elite_with_measures_top500/IL_ppga_{env_name}_m_cond_gail_archive_bonus_wo_smooth/1111/checkpoints/cp_00002000/scheduler_00002000.pkl'\n",
    "scheduler_path = '/home/wanzl/project/ppga_il/experiments_4_good_and_diverse_elite_with_measures_top500/IL_ppga_walker2d_m_cond_reg_gail_RegLoss_MSE_Bonus_single_step_bonus/1111/checkpoints/cp_00002000/scheduler_00002000.pkl'\n",
    "with open(archive_path, 'rb') as f:\n",
    "    archive_df = pickle.load(f)\n",
    "with open(scheduler_path, 'rb') as f:\n",
    "    scheduler = pickle.load(f)"
   ]
  },
  {
   "cell_type": "code",
   "execution_count": 5,
   "metadata": {
    "ExecuteTime": {
     "end_time": "2023-04-18T10:24:44.260631Z",
     "start_time": "2023-04-18T10:24:43.877330Z"
    },
    "collapsed": false
   },
   "outputs": [],
   "source": [
    "# create the environment\n",
    "env = make_vec_env_brax(env_cfg)"
   ]
  },
  {
   "cell_type": "code",
   "execution_count": 6,
   "metadata": {
    "ExecuteTime": {
     "end_time": "2023-04-18T10:27:59.679558Z",
     "start_time": "2023-04-18T10:27:59.639211Z"
    },
    "collapsed": false
   },
   "outputs": [],
   "source": [
    "def get_best_elite():\n",
    "    best_elite = scheduler.archive.best_elite\n",
    "    print(f'Loading agent with reward {best_elite.objective} and measures {best_elite.measures}')\n",
    "    agent = Actor(obs_shape=actor_cfg.obs_shape[0], action_shape=actor_cfg.action_shape, normalize_obs=normalize_obs, normalize_returns=normalize_rewards).deserialize(best_elite.solution).to(device)\n",
    "    if actor_cfg.normalize_obs:\n",
    "        norm = best_elite.metadata['obs_normalizer']\n",
    "        if isinstance(norm, dict):\n",
    "            agent.obs_normalizer.load_state_dict(norm)\n",
    "        else:\n",
    "            agent.obs_normalizer = norm\n",
    "    return agent"
   ]
  },
  {
   "cell_type": "code",
   "execution_count": 7,
   "metadata": {
    "ExecuteTime": {
     "end_time": "2023-04-19T09:58:18.549041Z",
     "start_time": "2023-04-19T09:58:18.545285Z"
    },
    "collapsed": false
   },
   "outputs": [],
   "source": [
    "def get_random_elite():\n",
    "    elite = scheduler.archive.sample_elites(1)\n",
    "    print(f'Loading agent with reward {elite.objective_batch[0]} and measures {elite.measures_batch[0]}')\n",
    "    agent = Actor(obs_shape=actor_cfg.obs_shape[0], action_shape=actor_cfg.action_shape, normalize_obs=normalize_obs, normalize_returns=normalize_rewards).deserialize(elite.solution_batch.flatten()).to(device)\n",
    "    if actor_cfg.normalize_obs:\n",
    "        norm = elite.metadata_batch[0]['obs_normalizer']\n",
    "        if isinstance(norm, dict):\n",
    "            agent.obs_normalizer.load_state_dict(norm)\n",
    "        else:\n",
    "            agent.obs_normalizer = norm\n",
    "    return agent"
   ]
  },
  {
   "cell_type": "code",
   "execution_count": 8,
   "metadata": {},
   "outputs": [],
   "source": [
    "def get_measure_elite(measure):\n",
    "    elite = scheduler.archive.elites_with_measures_single(measure)\n",
    "    print(f'Loading agent with reward {elite.objective} and measures {elite.measures}')\n",
    "    agent = Actor(obs_shape=actor_cfg.obs_shape[0], action_shape=actor_cfg.action_shape, normalize_obs=normalize_obs, normalize_returns=normalize_rewards).deserialize(elite.solution).to(device)\n",
    "    if actor_cfg.normalize_obs:\n",
    "        norm = elite.metadata['obs_normalizer']\n",
    "        if isinstance(norm, dict):\n",
    "            agent.obs_normalizer.load_state_dict(norm)\n",
    "        else:\n",
    "            agent.obs_normalizer = norm\n",
    "    return agent"
   ]
  },
  {
   "cell_type": "code",
   "execution_count": 9,
   "metadata": {
    "ExecuteTime": {
     "end_time": "2023-04-19T09:58:21.970574Z",
     "start_time": "2023-04-19T09:58:21.969141Z"
    },
    "collapsed": false
   },
   "outputs": [],
   "source": [
    "def enjoy_brax(agent, render=True, deterministic=True):\n",
    "    if actor_cfg.normalize_obs:\n",
    "        obs_mean, obs_var = agent.obs_normalizer.obs_rms.mean, agent.obs_normalizer.obs_rms.var\n",
    "        print(f'{obs_mean=}, {obs_var=}')\n",
    "\n",
    "    obs = env.reset()\n",
    "    rollout = [env.unwrapped._state]\n",
    "    total_reward = 0\n",
    "    measures = torch.zeros(env_cfg.num_dims).to(device)\n",
    "    done = False\n",
    "    while not done:\n",
    "        with torch.no_grad():\n",
    "            obs = obs.unsqueeze(dim=0).to(device)\n",
    "            if actor_cfg.normalize_obs:\n",
    "                obs = (obs - obs_mean) / torch.sqrt(obs_var + 1e-8)\n",
    "\n",
    "            if deterministic:\n",
    "                act = agent.actor_mean(obs)\n",
    "            else:\n",
    "                act, _, _ = agent.get_action(obs)\n",
    "            act = act.squeeze()\n",
    "            obs, rew, done, info = env.step(act.cpu())\n",
    "            measures += info['measures']\n",
    "            rollout.append(env.unwrapped._state)\n",
    "            total_reward += rew\n",
    "    if render:\n",
    "        i = HTML(html.render(env.unwrapped._env.sys, [s.qp for s in rollout]))\n",
    "        display(i)\n",
    "        print(f'{total_reward=}')\n",
    "        print(f' Rollout length: {len(rollout)}')\n",
    "        measures /= len(rollout)\n",
    "        print(f'Measures: {measures.cpu().numpy()}')\n",
    "    return total_reward.detach().cpu().numpy()"
   ]
  },
  {
   "cell_type": "code",
   "execution_count": 11,
   "metadata": {},
   "outputs": [
    {
     "data": {
      "text/plain": [
       "2071"
      ]
     },
     "execution_count": 11,
     "metadata": {},
     "output_type": "execute_result"
    }
   ],
   "source": []
  },
  {
   "cell_type": "code",
   "execution_count": 12,
   "metadata": {
    "ExecuteTime": {
     "end_time": "2023-04-18T10:33:11.702148Z",
     "start_time": "2023-04-18T10:33:11.637104Z"
    },
    "collapsed": false
   },
   "outputs": [
    {
     "name": "stdout",
     "output_type": "stream",
     "text": [
      "Loading agent with reward 1015.3101218611002 and measures [0.81980002 0.98550004]\n",
      "Loading agent with reward 1077.082643074263 and measures [0.75850004 0.75980002]\n",
      "Loading agent with reward 1641.439247147739 and measures [0.74010003 0.24109998]\n",
      "Loading agent with reward 1012.4368193849921 and measures [0.24165498 0.75533593]\n"
     ]
    },
    {
     "name": "stderr",
     "output_type": "stream",
     "text": [
      "/tmp/ipykernel_58872/651535253.py:4: DeprecationWarning: `product` is deprecated as of NumPy 1.25.0, and will be removed in NumPy 2.0. Please use `prod` instead.\n",
      "  agent = Actor(obs_shape=actor_cfg.obs_shape[0], action_shape=actor_cfg.action_shape, normalize_obs=normalize_obs, normalize_returns=normalize_rewards).deserialize(elite.solution).to(device)\n"
     ]
    }
   ],
   "source": [
    "agent1 = get_measure_elite([0.8,0.99])\n",
    "agent2 = get_measure_elite([0.75,0.75])\n",
    "agent3 = get_measure_elite([0.75,0.25])\n",
    "agent4 = get_measure_elite([0.25,0.75])\n",
    "#enjoy_brax(agent1, render=True, deterministic=True)\n",
    "#enjoy_brax(agent1, render=True, deterministic=True)\n"
   ]
  }
 ],
 "metadata": {
  "kernelspec": {
   "display_name": "Python 3",
   "language": "python",
   "name": "python3"
  },
  "language_info": {
   "codemirror_mode": {
    "name": "ipython",
    "version": 3
   },
   "file_extension": ".py",
   "mimetype": "text/x-python",
   "name": "python",
   "nbconvert_exporter": "python",
   "pygments_lexer": "ipython3",
   "version": "3.9.19"
  }
 },
 "nbformat": 4,
 "nbformat_minor": 0
}
